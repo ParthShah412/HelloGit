{
  "nbformat": 4,
  "nbformat_minor": 0,
  "metadata": {
    "colab": {
      "name": "training.ipynb",
      "version": "0.3.2",
      "provenance": [],
      "collapsed_sections": [],
      "include_colab_link": true
    },
    "language_info": {
      "codemirror_mode": {
        "name": "ipython",
        "version": 3
      },
      "file_extension": ".py",
      "mimetype": "text/x-python",
      "name": "python",
      "nbconvert_exporter": "python",
      "pygments_lexer": "ipython3",
      "version": "3.6.6"
    },
    "kernelspec": {
      "name": "python3",
      "display_name": "Python 3"
    },
    "accelerator": "GPU"
  },
  "cells": [
    {
      "cell_type": "markdown",
      "metadata": {
        "id": "view-in-github",
        "colab_type": "text"
      },
      "source": [
        "<a href=\"https://colab.research.google.com/github/ParthShah412/HelloGit/blob/master/training.ipynb\" target=\"_parent\"><img src=\"https://colab.research.google.com/assets/colab-badge.svg\" alt=\"Open In Colab\"/></a>"
      ]
    },
    {
      "metadata": {
        "id": "GiSe73r8KHis",
        "colab_type": "code",
        "colab": {}
      },
      "cell_type": "code",
      "source": [
        "%matplotlib inline\n",
        "\n",
        "import numpy as np\n",
        "from matplotlib import pyplot as plt\n",
        "import time\n",
        "import os\n",
        "import torch\n",
        "import torch.nn as nn\n",
        "from torch.autograd import Variable\n",
        "from torch.utils.data import Dataset, DataLoader\n",
        "from tests import test_prediction, test_generation\n",
        "from torch.optim import Adam\n",
        "import pdb\n",
        "\n",
        "device = torch.device('cuda' if torch.cuda.is_available() else 'cpu')\n",
        "#device = ('cpu')\n",
        "torch.cuda.empty_cache()"
      ],
      "execution_count": 0,
      "outputs": []
    },
    {
      "metadata": {
        "id": "ICv2Unw3KHjb",
        "colab_type": "code",
        "outputId": "886790b9-4020-49ea-875a-21ed3ff02243",
        "colab": {
          "base_uri": "https://localhost:8080/",
          "height": 36
        }
      },
      "cell_type": "code",
      "source": [
        "# load all that we need\n",
        "print(device)\n",
        "dataset = np.load('/content/handout/dataset/wiki.train.npy')\n",
        "fixtures_pred = np.load('/content/handout/fixtures/prediction.npz')  # dev\n",
        "fixtures_gen = np.load('/content/handout/fixtures/generation.npy')  # dev\n",
        "fixtures_pred_test = np.load('/content/handout/fixtures/prediction_test.npz')  # test\n",
        "fixtures_gen_test = np.load('/content/handout/fixtures/generation_test.npy')  # test\n",
        "vocab = np.load('/content/handout/dataset/vocab.npy')"
      ],
      "execution_count": 124,
      "outputs": [
        {
          "output_type": "stream",
          "text": [
            "cuda\n"
          ],
          "name": "stdout"
        }
      ]
    },
    {
      "metadata": {
        "id": "QXwhB78bKHj6",
        "colab_type": "code",
        "outputId": "9fe4b738-157f-4319-8d87-af75312b1928",
        "colab": {
          "base_uri": "https://localhost:8080/",
          "height": 91
        }
      },
      "cell_type": "code",
      "source": [
        "print(fixtures_pred['inp'][1])\n",
        "print(fixtures_pred['out'][1])\n",
        "strn = ' '.join(vocab[word] for word in fixtures_pred['inp'][1])\n",
        "print(strn, vocab[fixtures_pred['out'][1]], vocab[24820])"
      ],
      "execution_count": 125,
      "outputs": [
        {
          "output_type": "stream",
          "text": [
            "[14658 21076 21626 31353  6613  1419 10706 15340 25874 25949 31994 21626\n",
            "  2299  3952    79  1419    76  1184 31543  1242]\n",
            "24820\n",
            "a few from the Heavy <unk> Platoon and one or two from B Company . <unk> , 60 to 70 men men\n"
          ],
          "name": "stdout"
        }
      ]
    },
    {
      "metadata": {
        "id": "z8BLcKidKHlK",
        "colab_type": "code",
        "colab": {}
      },
      "cell_type": "code",
      "source": [
        "# data loader\n",
        "\n",
        "class LanguageModelDataLoader(DataLoader):\n",
        "    \"\"\"\n",
        "        TODO: Define data loader logic here\n",
        "    \"\"\"\n",
        "    def __init__(self, dataset, batch_size, shuffle=True):\n",
        "        self.dataset = dataset\n",
        "        self.batch_size = batch_size\n",
        "\n",
        "    def __iter__(self):\n",
        "        # concatenate your articles and build into batches\n",
        "        \n",
        "        np.random.shuffle(self.dataset)\n",
        "        shuffled_data = self.dataset\n",
        "        concatenated_data = []\n",
        "        for i in shuffled_data:\n",
        "            concatenated_data.extend(i)\n",
        "        concatenated_data = np.asarray(concatenated_data)\n",
        "        new_len = concatenated_data.shape[0] - concatenated_data.shape[0]%self.batch_size\n",
        "        temp_data = concatenated_data[:new_len]\n",
        "        concatenated_data = temp_data.reshape(self.batch_size, temp_data.shape[0]//self.batch_size)\n",
        "        seq_len = 0\n",
        "        j = 0\n",
        "        while(j<concatenated_data.shape[1]):\n",
        "            tmp = np.random.randn(1)\n",
        "            if(tmp > 0.05):\n",
        "                seq_len = np.random.normal(70,5,1)\n",
        "            else:\n",
        "                seq_len = np.random.normal(35,5,1)\n",
        "            if(j+seq_len<(concatenated_data.shape[1])):\n",
        "                batch_arr = np.zeros((self.batch_size,int(seq_len)-1))\n",
        "                batch_otp = np.zeros((self.batch_size,int(seq_len)-1))\n",
        "                for i in range(concatenated_data.shape[0]-1):\n",
        "                    batch_arr[i] = concatenated_data[i,j:j+int(seq_len)-1]\n",
        "                    batch_otp[i] = concatenated_data[i,j+1:j+int(seq_len)]\n",
        "                j = j+int(seq_len)\n",
        "                yield (batch_arr, batch_otp)\n",
        "            else:\n",
        "                break\n",
        "        \n",
        "        "
      ],
      "execution_count": 0,
      "outputs": []
    },
    {
      "metadata": {
        "id": "SdVDScarKHli",
        "colab_type": "code",
        "colab": {}
      },
      "cell_type": "code",
      "source": [
        "load_data = LanguageModelDataLoader(dataset,80)\n",
        "k = 0\n",
        "for i,(j,k) in enumerate(load_data):\n",
        "    print(j.shape, k.shape)"
      ],
      "execution_count": 0,
      "outputs": []
    },
    {
      "metadata": {
        "id": "NJsT2cnYKHl3",
        "colab_type": "code",
        "colab": {}
      },
      "cell_type": "code",
      "source": [
        "# model\n",
        "\n",
        "class LanguageModel(nn.Module):\n",
        "    \"\"\"\n",
        "        TODO: Define your model here\n",
        "    \"\"\"\n",
        "    def __init__(self, vocab_size, embed_size, hidden_size, nlayers):\n",
        "        super(LanguageModel, self).__init__()\n",
        "        self.vocab_size = vocab_size\n",
        "        self.embed_size = embed_size\n",
        "        self.hidden_size = hidden_size\n",
        "        self.nlayers=nlayers\n",
        "        self.embedding = nn.Embedding(vocab_size,embed_size) # Embedding layer\n",
        "        self.rnn = nn.LSTM(input_size = embed_size,hidden_size=hidden_size,num_layers=nlayers, bidirectional=True) # Recurrent network\n",
        "        self.scoring = nn.Linear(2*hidden_size,vocab_size) # Projection layer\n",
        "\n",
        "    def forward(self, x, hidden=None):\n",
        "        batch_size = x.size(1)\n",
        "        embeddings = self.embedding(x)\n",
        "        output_lstm,hidden = self.rnn(embeddings, hidden)\n",
        "        embeddings = embeddings.detach().cpu().numpy()\n",
        "        del embeddings\n",
        "        output_lstm_flatten = output_lstm.view(-1,2*self.hidden_size)\n",
        "        output_flatten = self.scoring(output_lstm_flatten)\n",
        "        output_lstm_flatten = output_lstm_flatten.detach().cpu().numpy()\n",
        "        del output_lstm_flatten\n",
        "        torch.cuda.empty_cache()\n",
        "        return output_flatten.view(-1, batch_size, self.vocab_size), hidden\n",
        "        \n",
        "        \n",
        "\n",
        "    \n"
      ],
      "execution_count": 0,
      "outputs": []
    },
    {
      "metadata": {
        "id": "z-hoWFNUKHmP",
        "colab_type": "code",
        "outputId": "c67483ff-4f9c-4e4a-fb30-b534e8ef8cf8",
        "colab": {
          "base_uri": "https://localhost:8080/",
          "height": 247
        }
      },
      "cell_type": "code",
      "source": [
        "model = LanguageModel(vocab_size=len(vocab), embed_size=400, hidden_size = 1150, nlayers=3)\n",
        "model.to(device)\n",
        "for i,(j,k) in enumerate(load_data):\n",
        "    inputs = torch.LongTensor(j).to(device)\n",
        "    output = model(inputs)\n",
        "    print(output.shape)\n",
        "#     output = output.detach().cpu().numpy()\n",
        "    inputs = inputs.detach().cpu().numpy()\n",
        "    del output\n",
        "    del inputs\n",
        "    torch.cuda.empty_cache()"
      ],
      "execution_count": 0,
      "outputs": [
        {
          "output_type": "error",
          "ename": "NameError",
          "evalue": "ignored",
          "traceback": [
            "\u001b[0;31m---------------------------------------------------------------------------\u001b[0m",
            "\u001b[0;31mNameError\u001b[0m                                 Traceback (most recent call last)",
            "\u001b[0;32m<ipython-input-8-144ed795ce99>\u001b[0m in \u001b[0;36m<module>\u001b[0;34m()\u001b[0m\n\u001b[1;32m      1\u001b[0m \u001b[0mmodel\u001b[0m \u001b[0;34m=\u001b[0m \u001b[0mLanguageModel\u001b[0m\u001b[0;34m(\u001b[0m\u001b[0mvocab_size\u001b[0m\u001b[0;34m=\u001b[0m\u001b[0mlen\u001b[0m\u001b[0;34m(\u001b[0m\u001b[0mvocab\u001b[0m\u001b[0;34m)\u001b[0m\u001b[0;34m,\u001b[0m \u001b[0membed_size\u001b[0m\u001b[0;34m=\u001b[0m\u001b[0;36m400\u001b[0m\u001b[0;34m,\u001b[0m \u001b[0mhidden_size\u001b[0m \u001b[0;34m=\u001b[0m \u001b[0;36m1150\u001b[0m\u001b[0;34m,\u001b[0m \u001b[0mnlayers\u001b[0m\u001b[0;34m=\u001b[0m\u001b[0;36m3\u001b[0m\u001b[0;34m)\u001b[0m\u001b[0;34m\u001b[0m\u001b[0;34m\u001b[0m\u001b[0m\n\u001b[1;32m      2\u001b[0m \u001b[0mmodel\u001b[0m\u001b[0;34m.\u001b[0m\u001b[0mto\u001b[0m\u001b[0;34m(\u001b[0m\u001b[0mdevice\u001b[0m\u001b[0;34m)\u001b[0m\u001b[0;34m\u001b[0m\u001b[0;34m\u001b[0m\u001b[0m\n\u001b[0;32m----> 3\u001b[0;31m \u001b[0;32mfor\u001b[0m \u001b[0mi\u001b[0m\u001b[0;34m,\u001b[0m\u001b[0;34m(\u001b[0m\u001b[0mj\u001b[0m\u001b[0;34m,\u001b[0m\u001b[0mk\u001b[0m\u001b[0;34m)\u001b[0m \u001b[0;32min\u001b[0m \u001b[0menumerate\u001b[0m\u001b[0;34m(\u001b[0m\u001b[0mload_data\u001b[0m\u001b[0;34m)\u001b[0m\u001b[0;34m:\u001b[0m\u001b[0;34m\u001b[0m\u001b[0;34m\u001b[0m\u001b[0m\n\u001b[0m\u001b[1;32m      4\u001b[0m     \u001b[0minputs\u001b[0m \u001b[0;34m=\u001b[0m \u001b[0mtorch\u001b[0m\u001b[0;34m.\u001b[0m\u001b[0mLongTensor\u001b[0m\u001b[0;34m(\u001b[0m\u001b[0mj\u001b[0m\u001b[0;34m)\u001b[0m\u001b[0;34m.\u001b[0m\u001b[0mto\u001b[0m\u001b[0;34m(\u001b[0m\u001b[0mdevice\u001b[0m\u001b[0;34m)\u001b[0m\u001b[0;34m\u001b[0m\u001b[0;34m\u001b[0m\u001b[0m\n\u001b[1;32m      5\u001b[0m     \u001b[0moutput\u001b[0m \u001b[0;34m=\u001b[0m \u001b[0mmodel\u001b[0m\u001b[0;34m(\u001b[0m\u001b[0minputs\u001b[0m\u001b[0;34m)\u001b[0m\u001b[0;34m\u001b[0m\u001b[0;34m\u001b[0m\u001b[0m\n",
            "\u001b[0;31mNameError\u001b[0m: name 'load_data' is not defined"
          ]
        }
      ]
    },
    {
      "metadata": {
        "id": "b7ul2OALKHms",
        "colab_type": "code",
        "colab": {}
      },
      "cell_type": "code",
      "source": [
        "# model trainer\n",
        "\n",
        "class LanguageModelTrainer:\n",
        "    def __init__(self, model, loader, max_epochs=1, run_id='exp'):\n",
        "        \"\"\"\n",
        "            Use this class to train your model\n",
        "        \"\"\"\n",
        "        # feel free to add any other parameters here\n",
        "        self.model = model\n",
        "        self.loader = loader\n",
        "        self.train_losses = []\n",
        "        self.val_losses = []\n",
        "        self.predictions = []\n",
        "        self.predictions_test = []\n",
        "        self.generated_logits = []\n",
        "        self.generated = []\n",
        "        self.generated_logits_test = []\n",
        "        self.generated_test = []\n",
        "        self.epochs = 0\n",
        "        self.max_epochs = max_epochs\n",
        "        self.run_id = run_id\n",
        "        \n",
        "        # TODO: Define your optimizer and criterion here\n",
        "        self.optimizer = Adam(model.parameters(), lr = 0.001)\n",
        "        self.criterion = nn.CrossEntropyLoss()\n",
        "\n",
        "    def train(self):\n",
        "        self.model.train() # set to training mode\n",
        "        epoch_loss = 0\n",
        "        num_batches = 0\n",
        "        for batch_num, (inputs, targets) in enumerate(self.loader):\n",
        "            epoch_loss += self.train_batch(inputs, targets)\n",
        "            print(epoch_loss)\n",
        "        epoch_loss = epoch_loss / (batch_num + 1)\n",
        "        self.epochs += 1\n",
        "        print('[TRAIN]  Epoch [%d/%d]   Loss: %.4f'\n",
        "                      % (self.epochs + 1, self.max_epochs, epoch_loss))\n",
        "        self.train_losses.append(epoch_loss)\n",
        "\n",
        "    def train_batch(self, inputs, targets):\n",
        "        self.optimizer.zero_grad()\n",
        "        inputs = torch.LongTensor(inputs).to(device)\n",
        "        inputs = torch.transpose(inputs,0,1).to(device)\n",
        "        targets = torch.LongTensor(targets).to(device)\n",
        "        targets = torch.transpose(targets,0,1).to(device)\n",
        "        hidden = None\n",
        "        outputs, hidden = model(inputs, hidden)\n",
        "        targets = targets.contiguous()\n",
        "        outputs = outputs.view(-1,outputs.size(2))\n",
        "        loss = self.criterion(outputs, targets.view(-1))\n",
        "        #loss = Variable(loss, requires_grad=True)\n",
        "        loss.backward()\n",
        "        self.optimizer.step()\n",
        "        return loss\n",
        "        \n",
        "\n",
        "    \n",
        "    def test(self):\n",
        "        # don't change these\n",
        "        self.model.eval() # set to eval mode\n",
        "        predictions = TestLanguageModel.prediction(fixtures_pred['inp'], self.model) # get predictions\n",
        "        self.predictions.append(predictions)\n",
        "        generated_logits = TestLanguageModel.generation(fixtures_gen, 10, self.model) # generated predictions for 10 words\n",
        "        generated_logits_test = TestLanguageModel.generation(fixtures_gen_test, 10, self.model)\n",
        "        nll = test_prediction(predictions, fixtures_pred['out'])\n",
        "        generated = test_generation(fixtures_gen, generated_logits, vocab)\n",
        "        generated_test = test_generation(fixtures_gen_test, generated_logits_test, vocab)\n",
        "        self.val_losses.append(nll)\n",
        "        \n",
        "        self.generated.append(generated)\n",
        "        self.generated_test.append(generated_test)\n",
        "        self.generated_logits.append(generated_logits)\n",
        "        self.generated_logits_test.append(generated_logits_test)\n",
        "        \n",
        "        # generate predictions for test data\n",
        "        predictions_test = TestLanguageModel.prediction(fixtures_pred_test['inp'], self.model) # get predictions\n",
        "        self.predictions_test.append(predictions_test)\n",
        "            \n",
        "        print('[VAL]  Epoch [%d/%d]   Loss: %.4f'\n",
        "                      % (self.epochs + 1, self.max_epochs, nll))\n",
        "        return nll\n",
        "\n",
        "    def save(self):\n",
        "        # don't change these\n",
        "        model_path = os.path.join('experiments', self.run_id, 'model-{}.pkl'.format(self.epochs))\n",
        "        torch.save({'state_dict': self.model.state_dict()},\n",
        "            model_path)\n",
        "        np.save(os.path.join('experiments', self.run_id, 'predictions-{}.npy'.format(self.epochs)), self.predictions[-1])\n",
        "        np.save(os.path.join('experiments', self.run_id, 'predictions-test-{}.npy'.format(self.epochs)), self.predictions_test[-1])\n",
        "        np.save(os.path.join('experiments', self.run_id, 'generated_logits-{}.npy'.format(self.epochs)), self.generated_logits[-1])\n",
        "        np.save(os.path.join('experiments', self.run_id, 'generated_logits-test-{}.npy'.format(self.epochs)), self.generated_logits_test[-1])\n",
        "        with open(os.path.join('experiments', self.run_id, 'generated-{}.txt'.format(self.epochs)), 'w') as fw:\n",
        "            fw.write(self.generated[-1])\n",
        "        with open(os.path.join('experiments', self.run_id, 'generated-{}-test.txt'.format(self.epochs)), 'w') as fw:\n",
        "            fw.write(self.generated_test[-1])\n"
      ],
      "execution_count": 0,
      "outputs": []
    },
    {
      "metadata": {
        "id": "8RpODQW7KHnH",
        "colab_type": "code",
        "colab": {}
      },
      "cell_type": "code",
      "source": [
        "class TestLanguageModel:\n",
        "    def prediction(inp, model):\n",
        "        with torch.no_grad():\n",
        "            outputs_array = np.zeros((inp.shape[0],len(vocab)))\n",
        "            inputs = torch.LongTensor(inp).to(device)\n",
        "            inputs = torch.transpose(inputs,0,1)\n",
        "            hidden=None\n",
        "            outputs, hidden = model(inputs, hidden)\n",
        "            outputs_array = outputs[-1,:,:].cpu().numpy()\n",
        "            outputs_array = outputs_array.astype(np.float64)\n",
        "        return outputs_array\n",
        "            \n",
        "    def generation(inp, forward, model):\n",
        "        \"\"\"\n",
        "            TODO: write generation code here\n",
        "\n",
        "            Generate a sequence of words given a starting sequence.\n",
        "            :param inp: Initial sequence of words (batch size, length)\n",
        "            :param forward: number of additional words to generate\n",
        "            :return: generated words (batch size, forward)\n",
        "        \"\"\"\n",
        "        generated_output = []\n",
        "        with torch.no_grad():\n",
        "            inputs = torch.LongTensor(inp).to(device)\n",
        "            inputs = torch.transpose(inputs,0,1)\n",
        "            hidden = None\n",
        "            outputs, hidden = model(inputs, hidden)\n",
        "            temp = outputs[-1,:,:]\n",
        "            _,current_word = torch.max(temp,dim=1)\n",
        "            generated_output.append(current_word.cpu().numpy())\n",
        "            for j in range(1,forward):\n",
        "              word = current_word\n",
        "              word = word.view(1,-1)\n",
        "              output, hidden = model(word, hidden)\n",
        "              _,current_word = torch.max(temp,dim=1)\n",
        "              generated_output.append(current_word.cpu().numpy())\n",
        "        generated_matrix = np.asarray(generated_output)\n",
        "        print(generated_matrix.shape)\n",
        "        return generated_matrix.T\n"
      ],
      "execution_count": 0,
      "outputs": []
    },
    {
      "metadata": {
        "id": "1VPlk-A7KHnv",
        "colab_type": "code",
        "colab": {}
      },
      "cell_type": "code",
      "source": [
        "# TODO: define other hyperparameters here\n",
        "\n",
        "NUM_EPOCHS = 8\n",
        "BATCH_SIZE = 80\n"
      ],
      "execution_count": 0,
      "outputs": []
    },
    {
      "metadata": {
        "id": "jBoB_JYoKHn7",
        "colab_type": "code",
        "outputId": "d561e116-a325-4d38-95a6-7c92ae645df2",
        "colab": {
          "base_uri": "https://localhost:8080/",
          "height": 36
        }
      },
      "cell_type": "code",
      "source": [
        "run_id = str(int(time.time()))\n",
        "if not os.path.exists('./experiments'):\n",
        "    os.mkdir('./experiments')\n",
        "os.mkdir('./experiments/%s' % run_id)\n",
        "print(\"Saving models, predictions, and generated words to ./experiments/%s\" % run_id)"
      ],
      "execution_count": 137,
      "outputs": [
        {
          "output_type": "stream",
          "text": [
            "Saving models, predictions, and generated words to ./experiments/1555388894\n"
          ],
          "name": "stdout"
        }
      ]
    },
    {
      "metadata": {
        "id": "OjLlJCs_KHog",
        "colab_type": "code",
        "colab": {}
      },
      "cell_type": "code",
      "source": [
        "model = LanguageModel(vocab_size=len(vocab), embed_size=400, hidden_size = 1150, nlayers=3)\n",
        "model.to(device)\n",
        "loader = LanguageModelDataLoader(dataset=dataset, batch_size=BATCH_SIZE, shuffle=True)\n",
        "trainer = LanguageModelTrainer(model=model, loader=loader, max_epochs=NUM_EPOCHS, run_id=run_id)\n"
      ],
      "execution_count": 0,
      "outputs": []
    },
    {
      "metadata": {
        "id": "B5gMwgBzbMa6",
        "colab_type": "code",
        "outputId": "689ada3b-dbcf-4f78-8c98-2a43a10dcae2",
        "colab": {
          "base_uri": "https://localhost:8080/",
          "height": 481
        }
      },
      "cell_type": "code",
      "source": [
        "best_nll = 1e30\n",
        "for epoch in range(NUM_EPOCHS):\n",
        "  nll = trainer.test()\n",
        "  if nll < best_nll:\n",
        "    best_nll = nll\n",
        "    print(\"Saving model, predictions and generated output for epoch \"+str(epoch)+\" with NLL: \"+ str(best_nll))"
      ],
      "execution_count": 0,
      "outputs": [
        {
          "output_type": "stream",
          "text": [
            "(10, 32)\n",
            "(10, 128)\n",
            "[VAL]  Epoch [1/8]   Loss: 10.4125\n",
            "Saving model, predictions and generated output for epoch 0 with NLL: 10.412534264643355\n",
            "(10, 32)\n",
            "(10, 128)\n",
            "[VAL]  Epoch [1/8]   Loss: 10.4125\n",
            "(10, 32)\n",
            "(10, 128)\n",
            "[VAL]  Epoch [1/8]   Loss: 10.4125\n",
            "(10, 32)\n",
            "(10, 128)\n",
            "[VAL]  Epoch [1/8]   Loss: 10.4125\n",
            "(10, 32)\n",
            "(10, 128)\n",
            "[VAL]  Epoch [1/8]   Loss: 10.4125\n",
            "(10, 32)\n",
            "(10, 128)\n",
            "[VAL]  Epoch [1/8]   Loss: 10.4125\n",
            "(10, 32)\n",
            "(10, 128)\n",
            "[VAL]  Epoch [1/8]   Loss: 10.4125\n",
            "(10, 32)\n",
            "(10, 128)\n",
            "[VAL]  Epoch [1/8]   Loss: 10.4125\n"
          ],
          "name": "stdout"
        }
      ]
    },
    {
      "metadata": {
        "id": "cMh7CDfGKHo1",
        "colab_type": "code",
        "outputId": "cef248be-7177-4b65-dc9b-999e7e711198",
        "colab": {
          "base_uri": "https://localhost:8080/",
          "height": 1669
        }
      },
      "cell_type": "code",
      "source": [
        "best_nll = 1e30 \n",
        "for epoch in range(NUM_EPOCHS):\n",
        "    trainer.train()\n",
        "    nll = trainer.test()\n",
        "    if nll < best_nll:\n",
        "        best_nll = nll\n",
        "        print(\"Saving model, predictions and generated output for epoch \"+str(epoch)+\" with NLL: \"+ str(best_nll))\n",
        "        trainer.save()\n",
        "    "
      ],
      "execution_count": 139,
      "outputs": [
        {
          "output_type": "stream",
          "text": [
            "tensor(10.4114, device='cuda:0', grad_fn=<AddBackward0>)\n",
            "tensor(20.6574, device='cuda:0', grad_fn=<AddBackward0>)\n",
            "tensor(29.5937, device='cuda:0', grad_fn=<AddBackward0>)\n",
            "tensor(38.2340, device='cuda:0', grad_fn=<AddBackward0>)\n",
            "tensor(45.7019, device='cuda:0', grad_fn=<AddBackward0>)\n",
            "tensor(53.1478, device='cuda:0', grad_fn=<AddBackward0>)\n",
            "tensor(60.6593, device='cuda:0', grad_fn=<AddBackward0>)\n",
            "[TRAIN]  Epoch [2/8]   Loss: 8.6656\n",
            "(10, 32)\n",
            "(10, 128)\n",
            "[VAL]  Epoch [2/8]   Loss: 7.7256\n",
            "Saving model, predictions and generated output for epoch 0 with NLL: 7.725634237300708\n",
            "tensor(7.1216, device='cuda:0', grad_fn=<AddBackward0>)\n",
            "tensor(14.1562, device='cuda:0', grad_fn=<AddBackward0>)\n",
            "tensor(21.3414, device='cuda:0', grad_fn=<AddBackward0>)\n",
            "tensor(28.5622, device='cuda:0', grad_fn=<AddBackward0>)\n",
            "tensor(35.8204, device='cuda:0', grad_fn=<AddBackward0>)\n",
            "tensor(43.1740, device='cuda:0', grad_fn=<AddBackward0>)\n",
            "[TRAIN]  Epoch [3/8]   Loss: 7.1957\n",
            "(10, 32)\n",
            "(10, 128)\n",
            "[VAL]  Epoch [3/8]   Loss: 7.7838\n",
            "tensor(6.9902, device='cuda:0', grad_fn=<AddBackward0>)\n",
            "tensor(13.8153, device='cuda:0', grad_fn=<AddBackward0>)\n",
            "tensor(20.6169, device='cuda:0', grad_fn=<AddBackward0>)\n",
            "tensor(27.3100, device='cuda:0', grad_fn=<AddBackward0>)\n",
            "tensor(33.9565, device='cuda:0', grad_fn=<AddBackward0>)\n",
            "tensor(40.5700, device='cuda:0', grad_fn=<AddBackward0>)\n",
            "tensor(47.1523, device='cuda:0', grad_fn=<AddBackward0>)\n",
            "tensor(53.7970, device='cuda:0', grad_fn=<AddBackward0>)\n",
            "[TRAIN]  Epoch [4/8]   Loss: 6.7246\n",
            "(10, 32)\n",
            "(10, 128)\n",
            "[VAL]  Epoch [4/8]   Loss: 7.3275\n",
            "Saving model, predictions and generated output for epoch 2 with NLL: 7.327521018722081\n",
            "tensor(6.2813, device='cuda:0', grad_fn=<AddBackward0>)\n",
            "tensor(12.4331, device='cuda:0', grad_fn=<AddBackward0>)\n",
            "tensor(18.5158, device='cuda:0', grad_fn=<AddBackward0>)\n",
            "tensor(24.6243, device='cuda:0', grad_fn=<AddBackward0>)\n",
            "tensor(30.7742, device='cuda:0', grad_fn=<AddBackward0>)\n",
            "[TRAIN]  Epoch [5/8]   Loss: 6.1548\n",
            "(10, 32)\n",
            "(10, 128)\n",
            "[VAL]  Epoch [5/8]   Loss: 7.1841\n",
            "Saving model, predictions and generated output for epoch 3 with NLL: 7.184103101210058\n",
            "tensor(5.9151, device='cuda:0', grad_fn=<AddBackward0>)\n",
            "tensor(11.9069, device='cuda:0', grad_fn=<AddBackward0>)\n",
            "tensor(17.8470, device='cuda:0', grad_fn=<AddBackward0>)\n",
            "tensor(23.8247, device='cuda:0', grad_fn=<AddBackward0>)\n",
            "tensor(29.6729, device='cuda:0', grad_fn=<AddBackward0>)\n",
            "tensor(35.5568, device='cuda:0', grad_fn=<AddBackward0>)\n",
            "tensor(41.3786, device='cuda:0', grad_fn=<AddBackward0>)\n",
            "[TRAIN]  Epoch [6/8]   Loss: 5.9112\n",
            "(10, 32)\n",
            "(10, 128)\n",
            "[VAL]  Epoch [6/8]   Loss: 7.1729\n",
            "Saving model, predictions and generated output for epoch 4 with NLL: 7.1729240054592065\n",
            "tensor(5.7804, device='cuda:0', grad_fn=<AddBackward0>)\n",
            "tensor(11.3574, device='cuda:0', grad_fn=<AddBackward0>)\n",
            "tensor(16.9191, device='cuda:0', grad_fn=<AddBackward0>)\n",
            "tensor(22.4035, device='cuda:0', grad_fn=<AddBackward0>)\n",
            "tensor(27.9818, device='cuda:0', grad_fn=<AddBackward0>)\n",
            "tensor(33.3472, device='cuda:0', grad_fn=<AddBackward0>)\n",
            "[TRAIN]  Epoch [7/8]   Loss: 5.5579\n",
            "(10, 32)\n",
            "(10, 128)\n",
            "[VAL]  Epoch [7/8]   Loss: 7.2481\n",
            "tensor(5.3848, device='cuda:0', grad_fn=<AddBackward0>)\n",
            "tensor(10.5931, device='cuda:0', grad_fn=<AddBackward0>)\n",
            "tensor(15.7799, device='cuda:0', grad_fn=<AddBackward0>)\n",
            "tensor(20.8949, device='cuda:0', grad_fn=<AddBackward0>)\n",
            "tensor(25.9937, device='cuda:0', grad_fn=<AddBackward0>)\n",
            "tensor(31.0492, device='cuda:0', grad_fn=<AddBackward0>)\n",
            "[TRAIN]  Epoch [8/8]   Loss: 5.1749\n",
            "(10, 32)\n",
            "(10, 128)\n",
            "[VAL]  Epoch [8/8]   Loss: 7.3575\n",
            "tensor(4.9403, device='cuda:0', grad_fn=<AddBackward0>)\n",
            "tensor(9.7766, device='cuda:0', grad_fn=<AddBackward0>)\n",
            "tensor(14.6876, device='cuda:0', grad_fn=<AddBackward0>)\n",
            "tensor(19.3967, device='cuda:0', grad_fn=<AddBackward0>)\n",
            "tensor(24.1741, device='cuda:0', grad_fn=<AddBackward0>)\n",
            "tensor(29.0193, device='cuda:0', grad_fn=<AddBackward0>)\n",
            "tensor(33.6924, device='cuda:0', grad_fn=<AddBackward0>)\n",
            "tensor(38.3009, device='cuda:0', grad_fn=<AddBackward0>)\n",
            "[TRAIN]  Epoch [9/8]   Loss: 4.7876\n",
            "(10, 32)\n",
            "(10, 128)\n",
            "[VAL]  Epoch [9/8]   Loss: 7.4773\n"
          ],
          "name": "stdout"
        }
      ]
    },
    {
      "metadata": {
        "id": "lEeaM4c4KHp4",
        "colab_type": "code",
        "colab": {
          "base_uri": "https://localhost:8080/",
          "height": 283
        },
        "outputId": "fdde53f3-ba46-49c3-9211-89dbd1687497"
      },
      "cell_type": "code",
      "source": [
        "# Don't change these\n",
        "# plot training curves\n",
        "plt.figure()\n",
        "plt.plot(range(1, trainer.epochs + 1), trainer.train_losses, label='Training losses')\n",
        "plt.plot(range(1, trainer.epochs + 1), trainer.val_losses, label='Validation losses')\n",
        "plt.xlabel('Epochs')\n",
        "plt.ylabel('NLL')\n",
        "plt.legend()\n",
        "plt.show()"
      ],
      "execution_count": 140,
      "outputs": [
        {
          "output_type": "display_data",
          "data": {
            "image/png": "[encoded data removed]",
            "text/plain": [
              "<Figure size 432x288 with 1 Axes>"
            ]
          },
          "metadata": {
            "tags": []
          }
        }
      ]
    },
    {
      "metadata": {
        "id": "y24qSj20KHqE",
        "colab_type": "code",
        "colab": {
          "base_uri": "https://localhost:8080/",
          "height": 650
        },
        "outputId": "6e430155-8176-404a-9d5c-ae41ab86a87a"
      },
      "cell_type": "code",
      "source": [
        "# see generated output\n",
        "print (trainer.generated[-1]) # get last generated output"
      ],
      "execution_count": 141,
      "outputs": [
        {
          "output_type": "stream",
          "text": [
            "Input | Output #0: while the group was en route , but only three were ultimately able to attack . None of them were | a a a a a a a a a a\n",
            "Input | Output #1: <unk> , where he remained on loan until 30 June 2010 . <eol> = = = Return to Manchester United | in in in in in in in in in in\n",
            "Input | Output #2: 25 April 2013 , denoting shipments of 500 @,@ 000 copies . <eol> The song became One Direction 's fourth | @-@ @-@ @-@ @-@ @-@ @-@ @-@ @-@ @-@ @-@\n",
            "Input | Output #3: , and Bruce R. ) one daughter ( Wendy J. <unk> ) and two grandchildren , died in <unk> , | and and and and and and and and and and\n",
            "Input | Output #4: Warrior were examples of this type . Because their armor was so heavy , they could only carry a single | . . . . . . . . . .\n",
            "Input | Output #5: the embassy at 1 : 49 and landed on Guam at 2 : 23 ; twenty minutes later , Ambassador | @-@ @-@ @-@ @-@ @-@ @-@ @-@ @-@ @-@ @-@\n",
            "Input | Output #6: <unk> , $ 96 million USD ) . Damage was heaviest in South Korea , notably where it moved ashore | a a a a a a a a a a\n",
            "Input | Output #7: The <unk> were condemned as <unk> by <unk> , who saw the riots as hampering attempts to resolve the situation | \" \" \" \" \" \" \" \" \" \"\n",
            "Input | Output #8: by a decision made by the War Office in mid @-@ 1941 , as it was considering the equipment to | a a a a a a a a a a\n",
            "Input | Output #9: Division crossed the <unk> at a number of places and climbed the hills quietly toward the 9th Infantry river line | \" \" \" \" \" \" \" \" \" \"\n",
            "Input | Output #10: = <eol> = = = French VIII . Corps ( Corps <unk> ) = = = <eol> On 6 November | , , , , , , , , , ,\n",
            "Input | Output #11: of the World from 9th Avenue \" . This is regarded as his most famous work . It is considered | @-@ @-@ @-@ @-@ @-@ @-@ @-@ @-@ @-@ @-@\n",
            "Input | Output #12: — <unk> @-@ 10 , <unk> @-@ 12 , <unk> @-@ 16 , <unk> @-@ 17 — were all converted | a a a a a a a a a a\n",
            "Input | Output #13: And now he has . \" <eol> = = Family = = <eol> <unk> lived 37 of his years in | in in in in in in in in in in\n",
            "Input | Output #14: Hell to which he has been condemned for <unk> . Eliot , in a letter to John <unk> dated 27 | a a a a a a a a a a\n",
            "Input | Output #15: Luoyang area , fulfilling his duties in domestic affairs . <eol> In the autumn of <unk> , he met Li | a a a a a a a a a a\n",
            "Input | Output #16: Power said they enjoyed Block Ball and its number of stages , but wondered how its eight <unk> of memory | 's 's 's 's 's 's 's 's 's 's\n",
            "Input | Output #17: by Lloyd F. Lonergan . The cameraman was Jacques <unk> . <eol> = = Release and reception = = <eol> | = = = = = = = = = =\n",
            "Input | Output #18: alone , the Austrians lost more than half their reserve artillery park , 6 @,@ 000 ( out of 8 | a a a a a a a a a a\n",
            "Input | Output #19: while attacking a ship at <unk> in the Dutch East Indies ; the loss was compounded by the fact that | a a a a a a a a a a\n",
            "Input | Output #20: first raised in 2007 by the member of parliament ( MP ) for <unk> . The gangsters may have run | @-@ @-@ @-@ @-@ @-@ @-@ @-@ @-@ @-@ @-@\n",
            "Input | Output #21: Species are also non @-@ spiny <unk> and includes both large trees with stout stems up to 30 metres ( | a a a a a a a a a a\n",
            "Input | Output #22: \" : specific design issues with the building 's energy efficiency included the fact that the largest room in the | game game game game game game game game game game\n",
            "Input | Output #23: were reported to support over 300 @,@ 000 households in the Brazilian state of <unk> in 2005 , and in | in in in in in in in in in in\n",
            "Input | Output #24: port . <unk> in Vietnam also warned for the potential of heavy rainfall due to the dissipating Tropical Depression <unk> | <unk> <unk> <unk> <unk> <unk> <unk> <unk> <unk> <unk> <unk>\n",
            "Input | Output #25: T @-@ numbers in their tropical cyclone products . The following example is from discussion number 3 of Tropical Depression | @-@ @-@ @-@ @-@ @-@ @-@ @-@ @-@ @-@ @-@\n",
            "Input | Output #26: South Australia hosted the three @-@ game semi @-@ final series against the New South Wales <unk> . Both teams | , , , , , , , , , ,\n",
            "Input | Output #27: Perth from contention and secured the last finals spot for the <unk> . <eol> = = = Statistical leaders = | = = = = = = = = = =\n",
            "Input | Output #28: deemed it an \" amazing pop song \" , lauding the group 's falsetto and its \" head @-@ <unk> | <unk> <unk> <unk> <unk> <unk> <unk> <unk> <unk> <unk> <unk>\n",
            "Input | Output #29: , but began patrolling the English Channel after <unk> @-@ 6 pioneered a route past British <unk> nets and mines | a a a a a a a a a a\n",
            "Input | Output #30: production executives to let him direct . He had already discussed the film with <unk> and Cohen , and felt | an an an an an an an an an an\n",
            "Input | Output #31: and Nick <unk> at Studio <unk> in Los Angeles , California , and was released on August 1 , 2006 | in in in in in in in in in in\n",
            "\n"
          ],
          "name": "stdout"
        }
      ]
    },
    {
      "metadata": {
        "id": "-ASYz14gKHqW",
        "colab_type": "code",
        "colab": {}
      },
      "cell_type": "code",
      "source": [
        ""
      ],
      "execution_count": 0,
      "outputs": []
    }
  ]
}